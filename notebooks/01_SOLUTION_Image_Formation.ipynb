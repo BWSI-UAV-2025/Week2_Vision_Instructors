{
 "cells": [
  {
   "cell_type": "markdown",
   "metadata": {},
   "source": [
    "# Pinhole Camera Model Practice Questions (Solutions)"
   ]
  },
  {
   "cell_type": "markdown",
   "metadata": {},
   "source": [
    "This notebook provides the solutions to the practice questions. The solutions use the `numpy` library for cleaner mathematical operations."
   ]
  },
  {
   "cell_type": "code",
   "execution_count": 1,
   "metadata": {},
   "outputs": [],
   "source": [
    "import numpy as np"
   ]
  },
  {
   "cell_type": "markdown",
   "metadata": {},
   "source": [
    "---"
   ]
  },
  {
   "cell_type": "markdown",
   "metadata": {},
   "source": [
    "## Question 1: Perspective Projection"
   ]
  },
  {
   "cell_type": "markdown",
   "metadata": {},
   "source": [
    "A 3D point in the camera coordinate system is given by `p_c = [10, 5, 20]`. The camera has a focal length `f` of 50mm. Calculate the position of the projection of this point on the image plane in meters."
   ]
  },
  {
   "cell_type": "markdown",
   "metadata": {},
   "source": [
    "### Solution\n",
    "We use the perspective projection equations:\n",
    "$$ u_m^c = f \\frac{p_x^c}{p_z^c} $$ \n",
    "$$ v_m^c = f \\frac{p_y^c}{p_z^c} $$ \n",
    "First, we convert the focal length from millimeters to meters: `f = 50mm = 0.05m`."
   ]
  },
  {
   "cell_type": "code",
   "execution_count": 2,
   "metadata": {},
   "outputs": [
    {
     "name": "stdout",
     "output_type": "stream",
     "text": [
      "Projected point (in meters): [0.025  0.0125]\n"
     ]
    }
   ],
   "source": [
    "# Define the variables\n",
    "p_c = np.array([10, 5, 20])\n",
    "f = 0.05 # in meters\n",
    "\n",
    "# Apply the perspective projection formulas\n",
    "u_m_c = f * (p_c[0] / p_c[2])\n",
    "v_m_c = f * (p_c[1] / p_c[2])\n",
    "\n",
    "p_m_c = np.array([u_m_c, v_m_c])\n",
    "print(f\"Projected point (in meters): {p_m_c}\")"
   ]
  },
  {
   "cell_type": "markdown",
   "metadata": {},
   "source": [
    "---"
   ]
  },
  {
   "cell_type": "markdown",
   "metadata": {},
   "source": [
    "## Question 2: Conversion to Pixels"
   ]
  },
  {
   "cell_type": "markdown",
   "metadata": {},
   "source": [
    "Given the projected point from Question 1, convert its coordinates from meters to pixels. Assume the following intrinsic parameters: `s_x = 800` pixels/meter, `s_y = 800` pixels/meter, `o_x = 320` pixels, `o_y = 240` pixels. What are the pixel coordinates `(u^I, v^I)`?"
   ]
  },
  {
   "cell_type": "markdown",
   "metadata": {},
   "source": [
    "### Solution\n",
    "We use the conversion formulas:\n",
    "$$ u^I = s_x u_m^c + o_x $$\n",
    "$$ v^I = s_y v_m^c + o_y $$"
   ]
  },
  {
   "cell_type": "code",
   "execution_count": 3,
   "metadata": {},
   "outputs": [
    {
     "name": "stdout",
     "output_type": "stream",
     "text": [
      "Pixel coordinates: [340. 250.]\n"
     ]
    }
   ],
   "source": [
    "# Define intrinsic parameters\n",
    "s_x = 800\n",
    "s_y = 800\n",
    "o_x = 320\n",
    "o_y = 240\n",
    "\n",
    "# Use the projected point from Q1\n",
    "# p_m_c = np.array([0.025, 0.0125])\n",
    "\n",
    "# Apply the conversion formulas\n",
    "u_I = s_x * p_m_c[0] + o_x\n",
    "v_I = s_y * p_m_c[1] + o_y\n",
    "\n",
    "p_I = np.array([u_I, v_I])\n",
    "print(f\"Pixel coordinates: {p_I}\")"
   ]
  },
  {
   "cell_type": "markdown",
   "metadata": {},
   "source": [
    "---"
   ]
  },
  {
   "cell_type": "markdown",
   "metadata": {},
   "source": [
    "## Question 3: Intrinsic Matrix"
   ]
  },
  {
   "cell_type": "markdown",
   "metadata": {},
   "source": [
    "Construct the intrinsic calibration matrix `K` using the parameters from Question 2, assuming no skew (`s_θ = 0`)."
   ]
  },
  {
   "cell_type": "markdown",
   "metadata": {},
   "source": [
    "### Solution\n",
    "The intrinsic matrix `K` is defined as:\n",
    "$$ K = \\begin{bmatrix} f s_x & s_\\theta & o_x \\\\ 0 & f s_y & o_y \\\\ 0 & 0 & 1 \\end{bmatrix} = \\begin{bmatrix} \\alpha_x & s_\\theta & o_x \\\\ 0 & \\alpha_y & o_y \\\\ 0 & 0 & 1 \\end{bmatrix} $$"
   ]
  },
  {
   "cell_type": "code",
   "execution_count": 4,
   "metadata": {},
   "outputs": [
    {
     "name": "stdout",
     "output_type": "stream",
     "text": [
      "Intrinsic Matrix K:\n",
      "[[ 40.   0. 320.]\n",
      " [  0.  40. 240.]\n",
      " [  0.   0.   1.]]\n"
     ]
    }
   ],
   "source": [
    "# Parameters from previous questions\n",
    "# f = 0.05, s_x = 800, s_y = 800, o_x = 320, o_y = 240\n",
    "s_theta = 0\n",
    "\n",
    "# Calculate alpha_x and alpha_y\n",
    "alpha_x = f * s_x\n",
    "alpha_y = f * s_y\n",
    "\n",
    "# Construct the matrix K\n",
    "K = np.array([\n",
    "    [alpha_x, s_theta, o_x],\n",
    "    [0,       alpha_y, o_y],\n",
    "    [0,       0,       1]\n",
    "])\n",
    "\n",
    "print(\"Intrinsic Matrix K:\")\n",
    "print(K)"
   ]
  },
  {
   "cell_type": "markdown",
   "metadata": {},
   "source": [
    "---"
   ]
  },
  {
   "cell_type": "markdown",
   "metadata": {},
   "source": [
    "## Question 4: Point Projection with Known Pose"
   ]
  },
  {
   "cell_type": "markdown",
   "metadata": {},
   "source": [
    "A point in the world frame is given by `p_w = [2, 3, 50]`. The camera's pose `T_w^c` is given by an identity rotation matrix and a translation vector `t = [0, 0, 10]`. Using the intrinsic matrix `K` from Question 3, calculate the pixel coordinates of the projected point."
   ]
  },
  {
   "cell_type": "markdown",
   "metadata": {},
   "source": [
    "### Solution\n",
    "The full projection equation is:\n",
    "$$ \\lambda \\tilde{p}^I = K \\, p^c = K (R \\, p^w + t) $$\n",
    "Where `λ` is the depth. To get the final pixel coordinates, we perform the matrix-vector multiplication and then divide the first two components of the result by the third."
   ]
  },
  {
   "cell_type": "code",
   "execution_count": 5,
   "metadata": {},
   "outputs": [
    {
     "name": "stdout",
     "output_type": "stream",
     "text": [
      "Point in camera coordinates: [ 2.  3. 60.]\n",
      "Projected point (homogeneous): [19280. 14520.    60.]\n",
      "Final Pixel Coordinates (u, v): [321.333 242.000]\n"
     ]
    }
   ],
   "source": [
    "# Define world point and pose\n",
    "p_w = np.array([2, 3, 50])\n",
    "R = np.identity(3)\n",
    "t = np.array([0, 0, 10])\n",
    "\n",
    "# 1. Transform world point to camera coordinates\n",
    "p_c_q4 = R @ p_w + t\n",
    "print(f\"Point in camera coordinates: {p_c_q4}\")\n",
    "\n",
    "# 2. Project using intrinsic matrix K\n",
    "p_I_homogeneous = K @ p_c_q4\n",
    "print(f\"Projected point (homogeneous): {p_I_homogeneous}\")\n",
    "\n",
    "# 3. Convert from homogeneous to 2D coordinates by dividing by the last element\n",
    "u_I_final = p_I_homogeneous[0] / p_I_homogeneous[2]\n",
    "v_I_final = p_I_homogeneous[1] / p_I_homogeneous[2]\n",
    "\n",
    "print(f\"Final Pixel Coordinates (u, v): [{u_I_final:.3f} {v_I_final:.3f}]\")"
   ]
  },
  {
   "cell_type": "markdown",
   "metadata": {},
   "source": [
    "---"
   ]
  },
  {
   "cell_type": "markdown",
   "metadata": {},
   "source": [
    "## Question 5: Radial Distortion"
   ]
  },
  {
   "cell_type": "markdown",
   "metadata": {},
   "source": [
    "A point is projected on the image plane at `(u_distort^I, v_distort^I) = (400, 350)` including radial distortion. Given distortion coefficients `a1 = 0.0001` and `a2 = 0.0000002` and the principal point `(o_x, o_y) = (320, 240)`, calculate the corrected pixel coordinates `(u^I, v^I)`."
   ]
  },
  {
   "cell_type": "markdown",
   "metadata": {},
   "source": [
    "### Solution\n",
    "The formulas to find the corrected coordinates `(u^c, v^c)` from the distorted ones `(u_distort^c, v_distort^c)` are:\n",
    "$$ u^{c}=(1+a_{1}r^{2}+a_{2}r^{4})u_{distort}^{c} $$\n",
    "$$ v^{c}=(1+a_{1}r^{2}+a_{2}r^{4})v_{distort}^{c} $$ \n",
    "where $r^{2}=(u_{distort}^{c})^{2}+(v_{distort}^{c})^{2}$.\n",
    "The calculation happens in the camera frame (origin at principal point), so we must first convert the pixel coordinates, apply the correction, and then convert back."
   ]
  },
  {
   "cell_type": "code",
   "execution_count": 6,
   "metadata": {},
   "outputs": [
    {
     "name": "stdout",
     "output_type": "stream",
     "text": [
      "Corrected pixel coordinates (u, v): [6024.0, 8083.0]\n"
     ]
    }
   ],
   "source": [
    "# Define the variables\n",
    "p_distort_I = np.array([400, 350])\n",
    "a1 = 0.0001\n",
    "a2 = 0.0000002\n",
    "# o_x, o_y are from Q2\n",
    "\n",
    "# 1. Convert distorted pixel coordinates to camera frame (origin at principal point)\n",
    "u_distort_c = p_distort_I[0] - o_x\n",
    "v_distort_c = p_distort_I[1] - o_y\n",
    "\n",
    "# 2. Calculate r^2\n",
    "r_sq = u_distort_c**2 + v_distort_c**2\n",
    "\n",
    "# 3. Calculate the correction factor\n",
    "correction_factor = 1 + a1 * r_sq + a2 * (r_sq**2)\n",
    "\n",
    "# 4. Apply correction to find the undistorted coordinates in the camera frame\n",
    "u_c_corrected = u_distort_c * correction_factor\n",
    "v_c_corrected = v_distort_c * correction_factor\n",
    "\n",
    "# 5. Convert corrected camera frame coordinates back to image pixel coordinates\n",
    "u_I_corrected = u_c_corrected + o_x\n",
    "v_I_corrected = v_c_corrected + o_y\n",
    "\n",
    "print(f\"Corrected pixel coordinates (u, v): [{u_I_corrected}, {v_I_corrected}]\")\n",
    "# Note: The distortion parameters are quite large, leading to a very significant correction."
   ]
  }
 ],
 "metadata": {
  "kernelspec": {
   "display_name": "Python 3",
   "language": "python",
   "name": "python3"
  },
  "language_info": {
   "codemirror_mode": {
    "name": "ipython",
    "version": 3
   },
   "file_extension": ".py",
   "mimetype": "text/x-python",
   "name": "python",
   "nbconvert_exporter": "python",
   "pygments_lexer": "ipython3",
   "version": "3.10.6"
  }
 },
 "nbformat": 4,
 "nbformat_minor": 4
}